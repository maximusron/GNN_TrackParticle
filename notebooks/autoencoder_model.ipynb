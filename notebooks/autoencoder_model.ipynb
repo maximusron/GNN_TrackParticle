{
 "cells": [
  {
   "cell_type": "code",
   "execution_count": 1,
   "metadata": {},
   "outputs": [
    {
     "name": "stderr",
     "output_type": "stream",
     "text": [
      "/home/maximus/anaconda3/envs/gnn/lib/python3.10/site-packages/tqdm/auto.py:22: TqdmWarning: IProgress not found. Please update jupyter and ipywidgets. See https://ipywidgets.readthedocs.io/en/stable/user_install.html\n",
      "  from .autonotebook import tqdm as notebook_tqdm\n"
     ]
    }
   ],
   "source": [
    "import torch\n",
    "import torch.nn.functional as F\n",
    "from torch_geometric.nn import GCNConv, Linear\n",
    "from torch.utils.data import DataLoader\n",
    "from torch_geometric.loader import DataLoader, DataListLoader\n",
    "import IPython.display\n",
    "from sklearn.metrics import roc_auc_score, average_precision_score\n",
    "import matplotlib.pyplot as plt\n",
    "from load_data import BatchData\n",
    "import summary\n",
    "\n",
    "USE_GPU = True\n",
    "HIDDEN_CHANNELS = 10\n",
    "LATENT_DIMS =   4\n",
    "NUM_GCN = 4 #assuming symmetric encoder-decoder network\n",
    "\n",
    "device = torch.device(\"cuda\")"
   ]
  },
  {
   "cell_type": "code",
   "execution_count": 2,
   "metadata": {},
   "outputs": [],
   "source": [
    "class Encoder(torch.nn.Module):\n",
    "    def __init__(self, num_node_features, hidden_channels, latent_dims, num_layers):\n",
    "        super(Encoder, self).__init__()\n",
    "        self.linear = torch.nn.Linear(num_node_features, hidden_channels)\n",
    "        self.conv_layers = torch.nn.ModuleList()\n",
    "        for i in range(num_layers-1):\n",
    "            self.conv_layers.append(GCNConv(hidden_channels, hidden_channels)) # GCN layers 2 to num_layers-1\n",
    "            # hidden_channels = hidden_channels - 2 # lets try \n",
    "        self.conv_layers.append(GCNConv(hidden_channels, latent_dims)) # GCN layer num_layers\n",
    "        self.num_layers = num_layers\n",
    "\n",
    "    def forward(self, x, edge_index):\n",
    "    # Linear transformation\n",
    "        x = self.linear(x)\n",
    "        x = F.relu(x)\n",
    "        # Message passing\n",
    "        for i in range(self.num_layers-1):\n",
    "            x = self.conv_layers[i](x, edge_index)\n",
    "            x = F.relu(x)\n",
    "        # Non-linearity\n",
    "        x = self.conv_layers[-1](x, edge_index)\n",
    "        return x"
   ]
  },
  {
   "cell_type": "code",
   "execution_count": 3,
   "metadata": {},
   "outputs": [],
   "source": [
    "class Decoder(torch.nn.Module):\n",
    "    def __init__(self, num_node_features, hidden_channels, latent_dims):\n",
    "        super(Decoder, self).__init__()\n",
    "        self.mlp = torch.nn.Sequential(\n",
    "            torch.nn.Linear(latent_dims, hidden_channels),\n",
    "            torch.nn.ReLU(),\n",
    "            torch.nn.Linear(hidden_channels, num_node_features)\n",
    "        )\n",
    "\n",
    "    def forward(self, z, edge_index):\n",
    "        # Compute node embeddings\n",
    "        z = self.mlp(z)\n",
    "        # Compute probability of edge existence\n",
    "        prob = (z[edge_index[0]] * z[edge_index[1]]).sum(dim=1)\n",
    "        prob = torch.sigmoid(prob)\n",
    "        return prob"
   ]
  },
  {
   "cell_type": "code",
   "execution_count": 4,
   "metadata": {},
   "outputs": [],
   "source": [
    "class Autoencoder(torch.nn.Module):\n",
    "  def __init__(self, encoder, decoder):\n",
    "    super(Autoencoder, self).__init__()\n",
    "    self.encoder = encoder\n",
    "    self.decoder = decoder\n",
    "    \n",
    "  def forward(self, x, edge_index):\n",
    "    # Apply the MLP to the feature vectors\n",
    "    z = self.encoder(x, edge_index)\n",
    "    # Apply the GNN to the graph and feature vectors\n",
    "    pred = self.decoder(z, edge_index)\n",
    "    return pred"
   ]
  },
  {
   "cell_type": "code",
   "execution_count": 59,
   "metadata": {},
   "outputs": [],
   "source": [
    "def focal_loss(pred, target):\n",
    "        alpha  = 0.2\n",
    "        gamma = 0.5\n",
    "        print(pred.shape)\n",
    "        pred = pred.unsqueeze(1)\n",
    "        print(pred.shape)\n",
    "\n",
    "        input_soft = F.softmax(pred, dim=1)\n",
    "        \n",
    "        one_hot = torch.zeros(pred.shape[0], 2, dtype=torch.int64, device=pred.device)\n",
    "        pred = one_hot.scatter_(1, pred, 1)\n",
    "        weight = torch.pow(1. - input_soft, gamma)\n",
    "        focal = -alpha * weight * torch.log(input_soft)\n",
    "        loss_tmp = torch.sum(pred * focal, dim=1)\n",
    "        loss = torch.mean(loss_tmp)\n",
    "        return loss\n",
    "  "
   ]
  },
  {
   "cell_type": "code",
   "execution_count": 60,
   "metadata": {},
   "outputs": [],
   "source": [
    "def displayStats(loader):\n",
    "        for batch in loader:\n",
    "            print(batch)\n",
    "            data = batch  # Get the first graph object.\n",
    "            print(data)\n",
    "            print('==============================================================')\n",
    "            # Gather some statistics about the graph.\n",
    "            print(f'Number of nodes: {data.num_nodes}')\n",
    "            print(f'Number of edges: {data.num_edges}')\n",
    "            print(f'Average node degree: {data.num_edges / data.num_nodes:.2f}')\n",
    "            print(f'Number of node features: {data.num_features}')\n",
    "            print(f'Number of edge features: {data.edge_attr.shape[1]}')\n",
    "            # print(f'Training node label rate: {int(data.train_mask.sum()) / data.num_nodes:.2f}')\n",
    "            print(f'Has isolated nodes: {data.has_isolated_nodes()}')\n",
    "            print(f'Has self-loops: {data.has_self_loops()}')\n",
    "            print(f'Is undirected: {data.is_undirected()}')\n",
    "            break\n",
    "        return None\n",
    "\n",
    "def test_visualise(graph):\n",
    "    g = torch_geometric.utils.to_networkx(graph, to_undirected=True)\n",
    "    nx.draw_networkx(g)\n",
    "    plt.show()\n",
    "    return None\n",
    "\n",
    "def getDataDims(loader):\n",
    "    return [loader.dataset[0].num_features, loader.dataset[0].edge_attr.shape[1]]\n"
   ]
  },
  {
   "cell_type": "code",
   "execution_count": 61,
   "metadata": {},
   "outputs": [],
   "source": [
    "def train_model(model, loader_train, loader_test, num_epochs):\n",
    "    optimizer = torch.optim.Adam(model.parameters(), lr=0.01)\n",
    "    loss_history =[]\n",
    "    roc_history =[]\n",
    "    ap_history =[]\n",
    "    \n",
    "    for epoch in range(num_epochs):\n",
    "        for batch in loader_train:\n",
    "            if(USE_GPU):\n",
    "                x           = batch[\"x\"].to(\"cuda\")\n",
    "                edge_index  = batch[\"edge_index\"].to(\"cuda\")\n",
    "                edge_attr   = batch[\"edge_attr\"].to(\"cuda\")\n",
    "                y           = batch[\"y\"].to(\"cuda\")\n",
    "            probs = model.forward(x, edge_index)\n",
    "            # loss = F.binary_cross_entropy(probs, y)\n",
    "            loss = focal_loss(probs, y)\n",
    "            optimizer.zero_grad()\n",
    "            loss.backward()\n",
    "            optimizer.step()\n",
    "            roc_auc, ap = test(model, loader_test)\n",
    "            \n",
    "        loss_history.append(float(loss.item()))\n",
    "        roc_history.append(roc_auc)\n",
    "        ap_history.append(ap)    \n",
    "        if(epoch%1==0):\n",
    "                print(f\"Epoch {epoch}, Loss: {loss.item():.4f}, ROC Score: {roc_auc:.4f}, AP Score: {ap:.4f}\")\n",
    "        del loss\n",
    "        del probs    \n",
    "        torch.cuda.empty_cache()\n",
    "    return loss_history, roc_history, ap_history\n",
    "\n",
    "def test(model, loader):\n",
    "    for batch in loader:\n",
    "        if(USE_GPU):\n",
    "            x           = batch[\"x\"].to(\"cuda\")\n",
    "            edge_index  = batch[\"edge_index\"].to(\"cuda\")\n",
    "            edge_attr   = batch[\"edge_attr\"].to(\"cuda\")\n",
    "            y           = batch[\"y\"].to(\"cuda\")\n",
    "        probs = model.forward(x, edge_index)\n",
    "    y, pred = y.detach().cpu().numpy(), probs.detach().cpu().numpy()\n",
    "    \n",
    "    return roc_auc_score(y, pred), average_precision_score(y, pred)\n",
    "    "
   ]
  },
  {
   "cell_type": "code",
   "execution_count": 62,
   "metadata": {},
   "outputs": [],
   "source": [
    "def init_model(num_nf, num_hidden_channels, latent_dims, num_gcn, loader):\n",
    "    encoder = Encoder(num_nf, num_hidden_channels, latent_dims, num_gcn)\n",
    "    decoder = Decoder(num_nf, num_hidden_channels, latent_dims)\n",
    "    model = Autoencoder(encoder, decoder)\n",
    "    optimizer = torch.optim.Adam(model.parameters(), lr=0.01)\n",
    "    print(summary.summary(model, loader.dataset[0][\"x\"], loader.dataset[0][\"edge_index\"]))\n",
    "    return model"
   ]
  },
  {
   "cell_type": "code",
   "execution_count": 63,
   "metadata": {},
   "outputs": [
    {
     "name": "stdout",
     "output_type": "stream",
     "text": [
      "Loading:\n",
      "../data/batch_1_0\n",
      "Train Set Batch Count: 63\n",
      "DataBatch(x=[4822, 6], edge_index=[2, 67604], edge_attr=[67604, 4], y=[67604], batch=[4822], ptr=[17])\n",
      "DataBatch(x=[4822, 6], edge_index=[2, 67604], edge_attr=[67604, 4], y=[67604], batch=[4822], ptr=[17])\n",
      "==============================================================\n",
      "Number of nodes: 4822\n",
      "Number of edges: 67604\n",
      "Average node degree: 14.02\n",
      "Number of node features: 6\n",
      "Number of edge features: 4\n",
      "Has isolated nodes: True\n",
      "Has self-loops: False\n",
      "Is undirected: False\n",
      "Loading:\n",
      "../data/batch_1_9\n",
      "Test Set Batch Count: 63\n",
      "DataBatch(x=[4754, 6], edge_index=[2, 64870], edge_attr=[64870, 4], y=[64870], batch=[4754], ptr=[17])\n",
      "DataBatch(x=[4754, 6], edge_index=[2, 64870], edge_attr=[64870, 4], y=[64870], batch=[4754], ptr=[17])\n",
      "==============================================================\n",
      "Number of nodes: 4754\n",
      "Number of edges: 64870\n",
      "Average node degree: 13.65\n",
      "Number of node features: 6\n",
      "Number of edge features: 4\n",
      "Has isolated nodes: True\n",
      "Has self-loops: False\n",
      "Is undirected: False\n"
     ]
    }
   ],
   "source": [
    "## TODO: Change to DataListLoader to allow batches to be subscriptable and possibly add functionality for parallelisation\n",
    "\n",
    "## TODO: init BatchData with an index range instead to allow 80 20 train-test split\n",
    "\n",
    "loader_train = DataLoader(BatchData(0,1), batch_size=16, pin_memory=True, num_workers=4)\n",
    "print(\"Train Set Batch Count:\", len(loader_train))\n",
    "displayStats(loader=loader_train)\n",
    "loader_test = DataLoader(BatchData(9,10), batch_size=16, pin_memory=True, num_workers=4)\n",
    "print(\"Test Set Batch Count:\", len(loader_train))\n",
    "displayStats(loader=loader_test)\n",
    "num_nf, num_ef = getDataDims(loader=loader_train)\n"
   ]
  },
  {
   "cell_type": "code",
   "execution_count": 64,
   "metadata": {},
   "outputs": [
    {
     "name": "stdout",
     "output_type": "stream",
     "text": [
      "+--------------------------------+----------------------+----------------+----------+\n",
      "| Layer                          | Input Shape          | Output Shape   | #Param   |\n",
      "|--------------------------------+----------------------+----------------+----------|\n",
      "| Autoencoder                    | [350, 6], [2, 8138]  | [8138]         | 560      |\n",
      "| ├─(encoder)Encoder             | [350, 6], [2, 8138]  | [350, 4]       | 444      |\n",
      "| │    └─(linear)Linear          | [350, 6]             | [350, 10]      | 70       |\n",
      "| │    └─(conv_layers)ModuleList | --                   | --             | 374      |\n",
      "| │    │    └─(0)GCNConv         | [350, 10], [2, 8138] | [350, 10]      | 110      |\n",
      "| │    │    └─(1)GCNConv         | [350, 10], [2, 8138] | [350, 10]      | 110      |\n",
      "| │    │    └─(2)GCNConv         | [350, 10], [2, 8138] | [350, 10]      | 110      |\n",
      "| │    │    └─(3)GCNConv         | [350, 10], [2, 8138] | [350, 4]       | 44       |\n",
      "| ├─(decoder)Decoder             | [350, 4], [2, 8138]  | [8138]         | 116      |\n",
      "| │    └─(mlp)Sequential         | [350, 4]             | [350, 6]       | 116      |\n",
      "| │    │    └─(0)Linear          | [350, 4]             | [350, 10]      | 50       |\n",
      "| │    │    └─(1)ReLU            | [350, 10]            | [350, 10]      | --       |\n",
      "| │    │    └─(2)Linear          | [350, 10]            | [350, 6]       | 66       |\n",
      "+--------------------------------+----------------------+----------------+----------+\n"
     ]
    }
   ],
   "source": [
    "model = init_model(num_nf, HIDDEN_CHANNELS, LATENT_DIMS, NUM_GCN, loader_train)"
   ]
  },
  {
   "cell_type": "code",
   "execution_count": 65,
   "metadata": {},
   "outputs": [
    {
     "name": "stdout",
     "output_type": "stream",
     "text": [
      "Training on GPU: True\n",
      "torch.Size([67604])\n",
      "torch.Size([67604, 1])\n"
     ]
    },
    {
     "ename": "RuntimeError",
     "evalue": "scatter(): Expected dtype int64 for index",
     "output_type": "error",
     "traceback": [
      "\u001b[0;31m---------------------------------------------------------------------------\u001b[0m",
      "\u001b[0;31mRuntimeError\u001b[0m                              Traceback (most recent call last)",
      "Cell \u001b[0;32mIn[65], line 6\u001b[0m\n\u001b[1;32m      3\u001b[0m     torch\u001b[39m.\u001b[39mcuda\u001b[39m.\u001b[39mempty_cache()\n\u001b[1;32m      5\u001b[0m \u001b[39mprint\u001b[39m(\u001b[39m\"\u001b[39m\u001b[39mTraining on GPU:\u001b[39m\u001b[39m\"\u001b[39m, \u001b[39mnext\u001b[39m(model\u001b[39m.\u001b[39mparameters())\u001b[39m.\u001b[39mis_cuda)\n\u001b[0;32m----> 6\u001b[0m loss_hist, roc_hist, ap_hist \u001b[39m=\u001b[39m train_model(model, loader_train, loader_test, num_epochs \u001b[39m=\u001b[39;49m \u001b[39m25\u001b[39;49m)\n",
      "Cell \u001b[0;32mIn[61], line 16\u001b[0m, in \u001b[0;36mtrain_model\u001b[0;34m(model, loader_train, loader_test, num_epochs)\u001b[0m\n\u001b[1;32m     14\u001b[0m probs \u001b[39m=\u001b[39m model\u001b[39m.\u001b[39mforward(x, edge_index)\n\u001b[1;32m     15\u001b[0m \u001b[39m# loss = F.binary_cross_entropy(probs, y)\u001b[39;00m\n\u001b[0;32m---> 16\u001b[0m loss \u001b[39m=\u001b[39m focal_loss(probs, y)\n\u001b[1;32m     17\u001b[0m optimizer\u001b[39m.\u001b[39mzero_grad()\n\u001b[1;32m     18\u001b[0m loss\u001b[39m.\u001b[39mbackward()\n",
      "Cell \u001b[0;32mIn[59], line 14\u001b[0m, in \u001b[0;36mfocal_loss\u001b[0;34m(pred, target)\u001b[0m\n\u001b[1;32m     11\u001b[0m input_soft \u001b[39m=\u001b[39m F\u001b[39m.\u001b[39msoftmax(pred, dim\u001b[39m=\u001b[39m\u001b[39m1\u001b[39m)\n\u001b[1;32m     13\u001b[0m one_hot \u001b[39m=\u001b[39m torch\u001b[39m.\u001b[39mzeros(pred\u001b[39m.\u001b[39mshape[\u001b[39m0\u001b[39m], \u001b[39m2\u001b[39m, dtype\u001b[39m=\u001b[39mtorch\u001b[39m.\u001b[39mint64, device\u001b[39m=\u001b[39mpred\u001b[39m.\u001b[39mdevice)\n\u001b[0;32m---> 14\u001b[0m pred \u001b[39m=\u001b[39m one_hot\u001b[39m.\u001b[39;49mscatter_(\u001b[39m1\u001b[39;49m, pred, \u001b[39m1\u001b[39;49m)\n\u001b[1;32m     15\u001b[0m weight \u001b[39m=\u001b[39m torch\u001b[39m.\u001b[39mpow(\u001b[39m1.\u001b[39m \u001b[39m-\u001b[39m input_soft, gamma)\n\u001b[1;32m     16\u001b[0m focal \u001b[39m=\u001b[39m \u001b[39m-\u001b[39malpha \u001b[39m*\u001b[39m weight \u001b[39m*\u001b[39m torch\u001b[39m.\u001b[39mlog(input_soft)\n",
      "\u001b[0;31mRuntimeError\u001b[0m: scatter(): Expected dtype int64 for index"
     ]
    }
   ],
   "source": [
    "if(USE_GPU):\n",
    "    model.to(device = \"cuda\")\n",
    "    torch.cuda.empty_cache()\n",
    "\n",
    "print(\"Training on GPU:\", next(model.parameters()).is_cuda)\n",
    "loss_hist, roc_hist, ap_hist = train_model(model, loader_train, loader_test, num_epochs = 25)"
   ]
  },
  {
   "cell_type": "code",
   "execution_count": null,
   "metadata": {},
   "outputs": [
    {
     "ename": "NameError",
     "evalue": "name 'roc_hist' is not defined",
     "output_type": "error",
     "traceback": [
      "\u001b[0;31m---------------------------------------------------------------------------\u001b[0m",
      "\u001b[0;31mNameError\u001b[0m                                 Traceback (most recent call last)",
      "Cell \u001b[0;32mIn[21], line 1\u001b[0m\n\u001b[0;32m----> 1\u001b[0m plt\u001b[39m.\u001b[39mplot(roc_hist, label\u001b[39m=\u001b[39m\u001b[39m\"\u001b[39m\u001b[39mROC\u001b[39m\u001b[39m\"\u001b[39m)\n\u001b[1;32m      2\u001b[0m plt\u001b[39m.\u001b[39mplot(ap_hist, label\u001b[39m=\u001b[39m\u001b[39m\"\u001b[39m\u001b[39mAP\u001b[39m\u001b[39m\"\u001b[39m)\n\u001b[1;32m      3\u001b[0m plt\u001b[39m.\u001b[39mlegend(loc\u001b[39m=\u001b[39m\u001b[39m\"\u001b[39m\u001b[39mupper right\u001b[39m\u001b[39m\"\u001b[39m)\n",
      "\u001b[0;31mNameError\u001b[0m: name 'roc_hist' is not defined"
     ]
    }
   ],
   "source": [
    "\n",
    "plt.plot(roc_hist, label=\"ROC\")\n",
    "plt.plot(ap_hist, label=\"AP\")\n",
    "plt.legend(loc=\"upper right\")\n",
    "plt.show()"
   ]
  },
  {
   "cell_type": "code",
   "execution_count": null,
   "metadata": {},
   "outputs": [
    {
     "data": {
      "image/png": "[encoded data removed]",
      "text/plain": [
       "<Figure size 640x480 with 1 Axes>"
      ]
     },
     "metadata": {},
     "output_type": "display_data"
    }
   ],
   "source": [
    "plt.plot(loss_hist, label=\"loss\")\n",
    "plt.legend()\n",
    "plt.show()\n",
    "roc_auc, ap = test(model, loader_test)"
   ]
  },
  {
   "cell_type": "code",
   "execution_count": null,
   "metadata": {},
   "outputs": [
    {
     "name": "stdout",
     "output_type": "stream",
     "text": [
      "ROC:86.57885243934498%\n",
      "Average Precision:73.68401056323131%\n"
     ]
    }
   ],
   "source": [
    "print(\"ROC:{}%\".format(roc_auc*100))\n",
    "print(\"Average Precision:{}%\".format(ap*100))"
   ]
  }
 ],
 "metadata": {
  "kernelspec": {
   "display_name": "gnn",
   "language": "python",
   "name": "python3"
  },
  "language_info": {
   "codemirror_mode": {
    "name": "ipython",
    "version": 3
   },
   "file_extension": ".py",
   "mimetype": "text/x-python",
   "name": "python",
   "nbconvert_exporter": "python",
   "pygments_lexer": "ipython3",
   "version": "3.10.0"
  },
  "orig_nbformat": 4,
  "vscode": {
   "interpreter": {
    "hash": "a641bb50ba765b87947f17e1700aba4a77aa5ee8fe54c2d25010287d24ff3214"
   }
  }
 },
 "nbformat": 4,
 "nbformat_minor": 2
}
