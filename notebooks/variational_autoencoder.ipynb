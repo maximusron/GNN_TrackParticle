{
 "cells": [
  {
   "cell_type": "code",
   "execution_count": 1,
   "metadata": {},
   "outputs": [
    {
     "name": "stderr",
     "output_type": "stream",
     "text": [
      "/home/maximus/anaconda3/envs/gnn/lib/python3.10/site-packages/tqdm/auto.py:22: TqdmWarning: IProgress not found. Please update jupyter and ipywidgets. See https://ipywidgets.readthedocs.io/en/stable/user_install.html\n",
      "  from .autonotebook import tqdm as notebook_tqdm\n"
     ]
    }
   ],
   "source": [
    "import torch\n",
    "import torch.nn.functional as F\n",
    "from torch_geometric.nn import GCNConv, Linear\n",
    "from torch.utils.data import DataLoader\n",
    "from torch_geometric.loader import DataLoader, DataListLoader\n",
    "import IPython.display\n",
    "from sklearn.metrics import roc_auc_score, average_precision_score\n",
    "import matplotlib.pyplot as plt\n",
    "\n",
    "from utils.load_data import BatchData\n",
    "from utils import summary\n",
    "\n",
    "USE_GPU = True\n",
    "HIDDEN_CHANNELS = 6\n",
    "LATENT_DIMS =   2\n",
    "MAX_LOGSTD = 10\n",
    "\n",
    "device = torch.device(\"cuda\")"
   ]
  },
  {
   "cell_type": "code",
   "execution_count": 2,
   "metadata": {},
   "outputs": [],
   "source": [
    "class Encoder(torch.nn.Module):\n",
    "    def __init__(self, num_node_features, hidden_channels, latent_dims):\n",
    "        super(Encoder, self).__init__()\n",
    "        # self.linear = torch.nn.Linear(num_node_features, hidden_channels)\n",
    "        self.conv1 = GCNConv(num_node_features, hidden_channels)\n",
    "        self.conv2 = GCNConv(hidden_channels, 2 * latent_dims)\n",
    "        self.conv_mu = GCNConv(2 * latent_dims, latent_dims)\n",
    "        self.conv_logstd = GCNConv(2 * latent_dims, latent_dims)\n",
    "\n",
    "    def forward(self, x, edge_index):\n",
    "    # Linear transformation\n",
    "        # x = self.linear(x)\n",
    "        # x = F.relu(x)\n",
    "        x = F.relu(self.conv1(x, edge_index))\n",
    "        x = F.relu(self.conv2(x, edge_index))\n",
    "        return self.conv_mu(x, edge_index), self.conv_logstd(x, edge_index)\n"
   ]
  },
  {
   "cell_type": "code",
   "execution_count": 3,
   "metadata": {},
   "outputs": [],
   "source": [
    "class Decoder(torch.nn.Module):\n",
    "    def __init__(self, num_node_features, hidden_channels, latent_dims):\n",
    "        super(Decoder, self).__init__()\n",
    "        self.mlp = torch.nn.Sequential(\n",
    "            torch.nn.Linear(latent_dims, hidden_channels),\n",
    "            torch.nn.ReLU(),\n",
    "            torch.nn.Linear(hidden_channels, num_node_features)\n",
    "        )\n",
    "\n",
    "    def forward(self, z, edge_index):\n",
    "        # Compute node embeddings\n",
    "        z = self.mlp(z)\n",
    "        # Compute probability of edge existence\n",
    "        prob = (z[edge_index[0]] * z[edge_index[1]]).sum(dim=1)\n",
    "        prob = torch.sigmoid(prob)\n",
    "        return prob"
   ]
  },
  {
   "cell_type": "code",
   "execution_count": 4,
   "metadata": {},
   "outputs": [],
   "source": [
    "class VariationalAutoencoder(torch.nn.Module):\n",
    "  def __init__(self, encoder, decoder):\n",
    "    super(VariationalAutoencoder, self).__init__()\n",
    "    self.encoder = encoder\n",
    "    self.decoder = decoder\n",
    "    self.mu = None\n",
    "    self.sigma = None\n",
    "  \n",
    "  def reparametrize(self):\n",
    "    return self.mu + torch.randn_like(self.sigma) * torch.exp(self.sigma)\n",
    "\n",
    "  def forward(self, x, edge_index):\n",
    "    # Apply the MLP to the feature vectors\n",
    "    self.mu, self.sigma = self.encoder(x, edge_index)\n",
    "    self.sigma = self.sigma.clamp(max=MAX_LOGSTD)\n",
    "    z = self.reparametrize()\n",
    "    # Apply the GNN to the graph and feature vectors\n",
    "    pred = self.decoder(z, edge_index)\n",
    "    return pred\n",
    "  \n",
    "  def kl_loss(self):\n",
    "        return -0.5 * torch.mean(\n",
    "            torch.sum(1 + 2 * self.sigma - self.mu**2 - self.sigma.exp()**2, dim=1))"
   ]
  },
  {
   "cell_type": "code",
   "execution_count": 5,
   "metadata": {},
   "outputs": [],
   "source": [
    "def displayStats(loader):\n",
    "        for batch in loader:\n",
    "            print(batch)\n",
    "            data = batch[0] # Get the first graph object.\n",
    "            print(data)\n",
    "            print('==============================================================')\n",
    "            # Gather some statistics about the graph.\n",
    "            print(f'Number of nodes: {data.num_nodes}')\n",
    "            print(f'Number of edges: {data.num_edges}')\n",
    "            print(f'Average node degree: {data.num_edges / data.num_nodes:.2f}')\n",
    "            print(f'Number of node features: {data.num_features}')\n",
    "            print(f'Number of edge features: {data.edge_attr.shape[1]}')\n",
    "            # print(f'Training node label rate: {int(data.train_mask.sum()) / data.num_nodes:.2f}')\n",
    "            print(f'Has isolated nodes: {data.has_isolated_nodes()}')\n",
    "            print(f'Has self-loops: {data.has_self_loops()}')\n",
    "            print(f'Is undirected: {data.is_undirected()}')\n",
    "            break\n",
    "        return None\n",
    "\n",
    "def test_visualise(graph):\n",
    "    g = torch_geometric.utils.to_networkx(graph, to_undirected=True)\n",
    "    nx.draw_networkx(g)\n",
    "    plt.show()\n",
    "    return None\n",
    "\n",
    "def getDataDims(loader):\n",
    "    return [loader.dataset[0].num_features, loader.dataset[0].edge_attr.shape[1]]\n"
   ]
  },
  {
   "cell_type": "code",
   "execution_count": 6,
   "metadata": {},
   "outputs": [],
   "source": [
    "def train_model(model, loader_train, loader_test, num_epochs):\n",
    "    optimizer = torch.optim.Adam(model.parameters(), lr=0.01)\n",
    "    loss_history =[]\n",
    "    roc_history =[]\n",
    "    ap_history =[]\n",
    "\n",
    "\n",
    "    for epoch in range(num_epochs):\n",
    "        for batch in loader_train:\n",
    "            if(USE_GPU):\n",
    "                x           = batch[\"x\"].to(\"cuda\")\n",
    "                edge_index  = batch[\"edge_index\"].to(\"cuda\")\n",
    "                edge_attr   = batch[\"edge_attr\"].to(\"cuda\")\n",
    "                y           = batch[\"y\"].to(\"cuda\")\n",
    "            probs = model.forward(x, edge_index)\n",
    "            loss = F.binary_cross_entropy(probs, y) + ((1 / batch.num_nodes) * model.kl_loss())\n",
    "            optimizer.zero_grad()\n",
    "            loss.backward()\n",
    "            optimizer.step()\n",
    "            roc_auc, ap = test(model, loader_test)\n",
    "            \n",
    "        loss_history.append(float(loss.item()))\n",
    "        roc_history.append(roc_auc)\n",
    "        ap_history.append(ap)    \n",
    "        if(epoch%1==0):\n",
    "                print(f\"Epoch {epoch}, Loss: {loss.item():.4f}, ROC Score: {roc_auc:.4f}, AP Score: {ap:.4f}\")\n",
    "        del loss\n",
    "        del probs    \n",
    "        torch.cuda.empty_cache()\n",
    "    return loss_history, roc_history, ap_history\n",
    "\n",
    "def test(model, loader):\n",
    "    for batch in loader:\n",
    "        if(USE_GPU):\n",
    "            x           = batch[\"x\"].to(\"cuda\")\n",
    "            edge_index  = batch[\"edge_index\"].to(\"cuda\")\n",
    "            edge_attr   = batch[\"edge_attr\"].to(\"cuda\")\n",
    "            y           = batch[\"y\"].to(\"cuda\")\n",
    "        probs = model.forward(x, edge_index)\n",
    "    y, pred = y.detach().cpu().numpy(), probs.detach().cpu().numpy()\n",
    "\n",
    "    return roc_auc_score(y, pred), average_precision_score(y, pred)\n",
    "    "
   ]
  },
  {
   "cell_type": "code",
   "execution_count": 7,
   "metadata": {},
   "outputs": [],
   "source": [
    "def init_model(num_nf, num_hidden_channels, latent_dims, loader):\n",
    "    encoder = Encoder(num_nf, num_hidden_channels, latent_dims)\n",
    "    decoder = Decoder(num_nf, num_hidden_channels, latent_dims)\n",
    "    model = VariationalAutoencoder(encoder, decoder)\n",
    "    optimizer = torch.optim.Adam(model.parameters(), lr=0.05)\n",
    "    print(summary.summary(model, loader.dataset[0][\"x\"], loader.dataset[0][\"edge_index\"]))\n",
    "    return model"
   ]
  },
  {
   "cell_type": "code",
   "execution_count": 8,
   "metadata": {},
   "outputs": [
    {
     "name": "stdout",
     "output_type": "stream",
     "text": [
      "Loading:\n",
      "../data/batch_1_0\n",
      "../data/batch_1_1\n",
      "../data/batch_1_2\n",
      "../data/batch_1_3\n",
      "../data/batch_1_4\n",
      "../data/batch_1_5\n",
      "../data/batch_1_6\n",
      "../data/batch_1_7\n",
      "Train Set Batch Count: 125\n",
      "DataBatch(x=[19402, 6], edge_index=[2, 250624], edge_attr=[250624, 4], y=[250624], batch=[19402], ptr=[65])\n",
      "Data(x=[350, 6], edge_index=[2, 8138], edge_attr=[8138, 4], y=[8138])\n",
      "==============================================================\n",
      "Number of nodes: 350\n",
      "Number of edges: 8138\n",
      "Average node degree: 23.25\n",
      "Number of node features: 6\n",
      "Number of edge features: 4\n",
      "Has isolated nodes: True\n",
      "Has self-loops: False\n",
      "Is undirected: False\n",
      "Loading:\n",
      "../data/batch_1_8\n",
      "../data/batch_1_9\n",
      "Test Set Batch Count: 125\n",
      "DataBatch(x=[4587, 6], edge_index=[2, 60020], edge_attr=[60020, 4], y=[60020], batch=[4587], ptr=[17])\n",
      "Data(x=[228, 6], edge_index=[2, 2094], edge_attr=[2094, 4], y=[2094])\n",
      "==============================================================\n",
      "Number of nodes: 228\n",
      "Number of edges: 2094\n",
      "Average node degree: 9.18\n",
      "Number of node features: 6\n",
      "Number of edge features: 4\n",
      "Has isolated nodes: True\n",
      "Has self-loops: False\n",
      "Is undirected: False\n"
     ]
    }
   ],
   "source": [
    "## TODO: Change to DataListLoader to allow batches to be subscriptable and possibly add functionality for parallelisation\n",
    "\n",
    "## TODO: init BatchData with an index range instead to allow 80 20 train-test split\n",
    "\n",
    "loader_train = DataLoader(BatchData(0,8), batch_size=64, pin_memory=True, num_workers=4)\n",
    "print(\"Train Set Batch Count:\", len(loader_train))\n",
    "displayStats(loader=loader_train)\n",
    "loader_test = DataLoader(BatchData(8,10), batch_size=16, pin_memory=True, num_workers=4)\n",
    "print(\"Test Set Batch Count:\", len(loader_train))\n",
    "displayStats(loader=loader_test)\n",
    "num_nf, num_ef = getDataDims(loader=loader_train)\n"
   ]
  },
  {
   "cell_type": "code",
   "execution_count": 9,
   "metadata": {},
   "outputs": [
    {
     "name": "stdout",
     "output_type": "stream",
     "text": [
      "+-----------------------------+---------------------+--------------------+----------+\n",
      "| Layer                       | Input Shape         | Output Shape       | #Param   |\n",
      "|-----------------------------+---------------------+--------------------+----------|\n",
      "| VariationalAutoencoder      | [350, 6], [2, 8138] | [8138]             | 150      |\n",
      "| ├─(encoder)Encoder          | [350, 6], [2, 8138] | [350, 2], [350, 2] | 90       |\n",
      "| │    └─(conv1)GCNConv       | [350, 6], [2, 8138] | [350, 6]           | 42       |\n",
      "| │    └─(conv2)GCNConv       | [350, 6], [2, 8138] | [350, 4]           | 28       |\n",
      "| │    └─(conv_mu)GCNConv     | [350, 4], [2, 8138] | [350, 2]           | 10       |\n",
      "| │    └─(conv_logstd)GCNConv | [350, 4], [2, 8138] | [350, 2]           | 10       |\n",
      "| ├─(decoder)Decoder          | [350, 2], [2, 8138] | [8138]             | 60       |\n",
      "| │    └─(mlp)Sequential      | [350, 2]            | [350, 6]           | 60       |\n",
      "| │    │    └─(0)Linear       | [350, 2]            | [350, 6]           | 18       |\n",
      "| │    │    └─(1)ReLU         | [350, 6]            | [350, 6]           | --       |\n",
      "| │    │    └─(2)Linear       | [350, 6]            | [350, 6]           | 42       |\n",
      "+-----------------------------+---------------------+--------------------+----------+\n"
     ]
    }
   ],
   "source": [
    "model = init_model(num_nf, HIDDEN_CHANNELS, LATENT_DIMS, loader_train)"
   ]
  },
  {
   "cell_type": "code",
   "execution_count": 10,
   "metadata": {},
   "outputs": [
    {
     "name": "stdout",
     "output_type": "stream",
     "text": [
      "Training on GPU: True\n",
      "Epoch 0, Loss: 0.6909, ROC Score: 0.5870, AP Score: 0.2460\n",
      "Epoch 1, Loss: 0.5177, ROC Score: 0.7737, AP Score: 0.5226\n",
      "Epoch 2, Loss: 0.5723, ROC Score: 0.7898, AP Score: 0.5580\n",
      "Epoch 3, Loss: 0.5590, ROC Score: 0.7932, AP Score: 0.5620\n",
      "Epoch 4, Loss: 0.5308, ROC Score: 0.7935, AP Score: 0.5595\n",
      "Epoch 5, Loss: 0.5250, ROC Score: 0.7953, AP Score: 0.5612\n",
      "Epoch 6, Loss: 0.5217, ROC Score: 0.7959, AP Score: 0.5631\n",
      "Epoch 7, Loss: 0.5078, ROC Score: 0.7957, AP Score: 0.5569\n",
      "Epoch 8, Loss: 0.4176, ROC Score: 0.8042, AP Score: 0.5750\n",
      "Epoch 9, Loss: 0.3562, ROC Score: 0.8253, AP Score: 0.6204\n",
      "Epoch 10, Loss: 0.3618, ROC Score: 0.8270, AP Score: 0.6229\n",
      "Epoch 11, Loss: 0.3514, ROC Score: 0.8282, AP Score: 0.6274\n",
      "Epoch 12, Loss: 0.3430, ROC Score: 0.8334, AP Score: 0.6453\n",
      "Epoch 13, Loss: 0.3309, ROC Score: 0.8429, AP Score: 0.6692\n",
      "Epoch 14, Loss: 0.3234, ROC Score: 0.8445, AP Score: 0.6783\n",
      "Epoch 15, Loss: 0.3167, ROC Score: 0.8463, AP Score: 0.6975\n",
      "Epoch 16, Loss: 0.3103, ROC Score: 0.8437, AP Score: 0.7007\n",
      "Epoch 17, Loss: 0.3055, ROC Score: 0.8427, AP Score: 0.7071\n",
      "Epoch 18, Loss: 0.3036, ROC Score: 0.8431, AP Score: 0.7131\n",
      "Epoch 19, Loss: 0.3025, ROC Score: 0.8416, AP Score: 0.7115\n",
      "Epoch 20, Loss: 0.3016, ROC Score: 0.8390, AP Score: 0.7122\n",
      "Epoch 21, Loss: 0.3010, ROC Score: 0.8393, AP Score: 0.7123\n",
      "Epoch 22, Loss: 0.3010, ROC Score: 0.8369, AP Score: 0.7106\n",
      "Epoch 23, Loss: 0.3005, ROC Score: 0.8360, AP Score: 0.7099\n",
      "Epoch 24, Loss: 0.3002, ROC Score: 0.8363, AP Score: 0.7113\n"
     ]
    }
   ],
   "source": [
    "if(USE_GPU):\n",
    "    model.to(device = \"cuda\")\n",
    "    torch.cuda.empty_cache()\n",
    "\n",
    "print(\"Training on GPU:\", next(model.parameters()).is_cuda)\n",
    "loss_hist, roc_hist, ap_hist = train_model(model, loader_train, loader_test, num_epochs = 25)"
   ]
  },
  {
   "cell_type": "code",
   "execution_count": 11,
   "metadata": {},
   "outputs": [
    {
     "data": {
      "image/png": "[encoded data removed]",
      "text/plain": [
       "<Figure size 640x480 with 1 Axes>"
      ]
     },
     "metadata": {},
     "output_type": "display_data"
    }
   ],
   "source": [
    "\n",
    "plt.plot(roc_hist, label=\"ROC\")\n",
    "plt.plot(ap_hist, label=\"AP\")\n",
    "plt.legend(loc=\"upper right\")\n",
    "plt.show()"
   ]
  },
  {
   "cell_type": "code",
   "execution_count": 12,
   "metadata": {},
   "outputs": [
    {
     "data": {
      "image/png": "[encoded data removed]",
      "text/plain": [
       "<Figure size 640x480 with 1 Axes>"
      ]
     },
     "metadata": {},
     "output_type": "display_data"
    }
   ],
   "source": [
    "plt.plot(loss_hist, label=\"loss\")\n",
    "plt.legend()\n",
    "plt.show()\n",
    "roc_auc, ap = test(model, loader_test)"
   ]
  },
  {
   "cell_type": "code",
   "execution_count": 13,
   "metadata": {},
   "outputs": [
    {
     "name": "stdout",
     "output_type": "stream",
     "text": [
      "ROC:83.63346489509549%\n",
      "Average Precision:71.1218555366607%\n"
     ]
    }
   ],
   "source": [
    "print(\"ROC:{}%\".format(roc_auc*100))\n",
    "print(\"Average Precision:{}%\".format(ap*100))"
   ]
  }
 ],
 "metadata": {
  "kernelspec": {
   "display_name": "gnn",
   "language": "python",
   "name": "python3"
  },
  "language_info": {
   "codemirror_mode": {
    "name": "ipython",
    "version": 3
   },
   "file_extension": ".py",
   "mimetype": "text/x-python",
   "name": "python",
   "nbconvert_exporter": "python",
   "pygments_lexer": "ipython3",
   "version": "3.10.0"
  },
  "orig_nbformat": 4,
  "vscode": {
   "interpreter": {
    "hash": "a641bb50ba765b87947f17e1700aba4a77aa5ee8fe54c2d25010287d24ff3214"
   }
  }
 },
 "nbformat": 4,
 "nbformat_minor": 2
}
