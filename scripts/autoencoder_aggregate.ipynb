{
 "cells": [
  {
   "cell_type": "code",
   "execution_count": 127,
   "metadata": {},
   "outputs": [],
   "source": [
    "import torch\n",
    "import torch.nn.functional as F\n",
    "from torch_geometric.nn import GCNConv, Linear\n",
    "from torch.utils.data import DataLoader\n",
    "from torch_geometric.loader import DataLoader, DataListLoader\n",
    "import IPython.display\n",
    "from sklearn.metrics import roc_auc_score, average_precision_score\n",
    "import matplotlib.pyplot as plt\n",
    "\n",
    "from load_data import BatchData\n",
    "import summary\n",
    "\n",
    "USE_GPU = True\n",
    "HIDDEN_CHANNELS = 10\n",
    "LATENT_DIMS =   4\n",
    "NUM_GCN = 4 #assuming symmetric encoder-decoder network\n",
    "\n",
    "device = torch.device(\"cuda\")"
   ]
  },
  {
   "cell_type": "code",
   "execution_count": 128,
   "metadata": {},
   "outputs": [],
   "source": [
    "class Encoder(torch.nn.Module):\n",
    "    def __init__(self, num_features, hidden_channels, latent_dims, num_layers):\n",
    "        super(Encoder, self).__init__()\n",
    "        self.linear = torch.nn.Linear(num_features, hidden_channels)\n",
    "        self.conv_layers = torch.nn.ModuleList()\n",
    "        for i in range(num_layers-2):\n",
    "            self.conv_layers.append(GCNConv(hidden_channels, hidden_channels)) # GCN layers 2 to num_layers-1\n",
    "        self.conv_layers.append(GCNConv(hidden_channels, latent_dims)) # GCN layer num_layers\n",
    "        self.num_layers = num_layers\n",
    "\n",
    "    def forward(self, x, edge_index, edge_attr):\n",
    "    # Linear transformation\n",
    "        edge_attr = edge_attr.view(edge_attr.size(0), -1)\n",
    "    # Concatenate the node features and edge features\n",
    "        print(x.shape)\n",
    "        print(edge_attr.shape)\n",
    "        x = torch.cat([x[edge_index[0]], x[edge_index[1]], edge_attr], dim=1)\n",
    "        print(x.shape)\n",
    "        x = self.linear(x)\n",
    "        x = F.relu(x)\n",
    "        # Message passing\n",
    "        for i in range(self.num_layers-1):\n",
    "            x = self.conv_layers[i](x, edge_index)\n",
    "            x = F.relu(x)\n",
    "        # Non-linearity\n",
    "        x = self.conv_layers[-1](x, edge_index)\n",
    "        return x"
   ]
  },
  {
   "cell_type": "code",
   "execution_count": 129,
   "metadata": {},
   "outputs": [],
   "source": [
    "class Decoder(torch.nn.Module):\n",
    "    def __init__(self, num_node_features, hidden_channels, latent_dims):\n",
    "        super(Decoder, self).__init__()\n",
    "        self.mlp = torch.nn.Sequential(\n",
    "            torch.nn.Linear(latent_dims, hidden_channels),\n",
    "            torch.nn.ReLU(),\n",
    "            torch.nn.Linear(hidden_channels, num_node_features)\n",
    "        )\n",
    "\n",
    "    def forward(self, z, edge_index):\n",
    "        # Compute node embeddings\n",
    "        z = self.mlp(z)\n",
    "        # Compute probability of edge existence\n",
    "        prob = (z[edge_index[0]] * z[edge_index[1]]).sum(dim=1)\n",
    "        prob = torch.sigmoid(prob)\n",
    "        return prob"
   ]
  },
  {
   "cell_type": "code",
   "execution_count": 130,
   "metadata": {},
   "outputs": [],
   "source": [
    "class Autoencoder(torch.nn.Module):\n",
    "  def __init__(self, encoder, decoder):\n",
    "    super(Autoencoder, self).__init__()\n",
    "    self.encoder = encoder\n",
    "    self.decoder = decoder\n",
    "    \n",
    "  def forward(self, x, edge_index, edge_attr):\n",
    "    # Apply the MLP to the feature vectors\n",
    "    z = self.encoder(x, edge_index, edge_attr)\n",
    "    # Apply the GNN to the graph and feature vectors\n",
    "    pred = self.decoder(z, edge_index)\n",
    "    return pred"
   ]
  },
  {
   "cell_type": "code",
   "execution_count": 131,
   "metadata": {},
   "outputs": [],
   "source": [
    "def displayStats(loader):\n",
    "        for batch in loader:\n",
    "            print(batch[\"x\"].shape)\n",
    "            print(batch[\"edge_attr\"].shape)\n",
    "\n",
    "            data = batch  # Get the first graph object.\n",
    "            print(data)\n",
    "            print('==============================================================')\n",
    "            # Gather some statistics about the graph.\n",
    "            print(f'Number of nodes: {data.num_nodes}')\n",
    "            print(f'Number of edges: {data.num_edges}')\n",
    "            print(f'Average node degree: {data.num_edges / data.num_nodes:.2f}')\n",
    "            print(f'Number of node features: {data.num_features}')\n",
    "            print(f'Number of edge features: {data.edge_attr.shape[1]}')\n",
    "            # print(f'Training node label rate: {int(data.train_mask.sum()) / data.num_nodes:.2f}')\n",
    "            print(f'Has isolated nodes: {data.has_isolated_nodes()}')\n",
    "            print(f'Has self-loops: {data.has_self_loops()}')\n",
    "            print(f'Is undirected: {data.is_undirected()}')\n",
    "            break\n",
    "        return None\n",
    "\n",
    "def test_visualise(graph):\n",
    "    g = torch_geometric.utils.to_networkx(graph, to_undirected=True)\n",
    "    nx.draw_networkx(g)\n",
    "    plt.show()\n",
    "    return None\n",
    "\n",
    "def getDataDims(loader):\n",
    "    return [loader.dataset[0].num_features, loader.dataset[0].edge_attr.shape[1]]\n"
   ]
  },
  {
   "cell_type": "code",
   "execution_count": 132,
   "metadata": {},
   "outputs": [],
   "source": [
    "def train_model(model, loader_train, loader_test, num_epochs):\n",
    "    optimizer = torch.optim.Adam(model.parameters(), lr=0.01)\n",
    "    loss_history =[]\n",
    "    roc_history =[]\n",
    "    ap_history =[]\n",
    "\n",
    "\n",
    "    for epoch in range(num_epochs):\n",
    "        for batch in loader_train:\n",
    "            if(USE_GPU):\n",
    "                x           = batch[\"x\"].to(\"cuda\")\n",
    "                edge_index  = batch[\"edge_index\"].to(\"cuda\")\n",
    "                edge_attr   = batch[\"edge_attr\"].to(\"cuda\")\n",
    "                y           = batch[\"y\"].to(\"cuda\")\n",
    "            probs = model.forward(x, edge_index, edge_attr)\n",
    "            loss = F.binary_cross_entropy(probs, y)\n",
    "            optimizer.zero_grad()\n",
    "            loss.backward()\n",
    "            optimizer.step()\n",
    "            roc_auc, ap = test(model, loader_test)\n",
    "            \n",
    "        loss_history.append(float(loss.item()))\n",
    "        roc_history.append(roc_auc)\n",
    "        ap_history.append(ap)    \n",
    "        if(epoch%1==0):\n",
    "                print(f\"Epoch {epoch}, Loss: {loss.item():.4f}, ROC Score: {roc_auc:.4f}, AP Score: {ap:.4f}\")\n",
    "        del loss\n",
    "        del probs    \n",
    "        torch.cuda.empty_cache()\n",
    "    return loss_history, roc_history, ap_history\n",
    "\n",
    "def test(model, loader):\n",
    "    for batch in loader:\n",
    "        if(USE_GPU):\n",
    "            x           = batch[\"x\"].to(\"cuda\")\n",
    "            edge_index  = batch[\"edge_index\"].to(\"cuda\")\n",
    "            edge_attr   = batch[\"edge_attr\"].to(\"cuda\")\n",
    "            y           = batch[\"y\"].to(\"cuda\")\n",
    "        probs = model.forward(x, edge_index)\n",
    "    y, pred = y.detach().cpu().numpy(), probs.detach().cpu().numpy()\n",
    "\n",
    "    return roc_auc_score(y, pred), average_precision_score(y, pred)\n",
    "    "
   ]
  },
  {
   "cell_type": "code",
   "execution_count": 133,
   "metadata": {},
   "outputs": [],
   "source": [
    "def init_model(num_nf, num_hidden_channels, latent_dims, num_gcn, loader):\n",
    "    encoder = Encoder(num_nf, num_hidden_channels, latent_dims, num_gcn)\n",
    "    decoder = Decoder(num_nf, num_hidden_channels, latent_dims)\n",
    "    model = Autoencoder(encoder, decoder)\n",
    "    optimizer = torch.optim.Adam(model.parameters(), lr=0.01)\n",
    "    print(summary.summary(model, loader.dataset[0][\"x\"], loader.dataset[0][\"edge_index\"], loader.dataset[0][\"edge_attr\"]))\n",
    "    return model"
   ]
  },
  {
   "cell_type": "code",
   "execution_count": 134,
   "metadata": {},
   "outputs": [
    {
     "name": "stdout",
     "output_type": "stream",
     "text": [
      "Loading:\n",
      "../data/batch_1_0\n",
      "Train Set Batch Count: 63\n",
      "torch.Size([4822, 6])\n",
      "torch.Size([67604, 4])\n",
      "DataBatch(x=[4822, 6], edge_index=[2, 67604], edge_attr=[67604, 4], y=[67604], batch=[4822], ptr=[17])\n",
      "==============================================================\n",
      "Number of nodes: 4822\n",
      "Number of edges: 67604\n",
      "Average node degree: 14.02\n",
      "Number of node features: 6\n",
      "Number of edge features: 4\n",
      "Has isolated nodes: True\n",
      "Has self-loops: False\n",
      "Is undirected: False\n",
      "Loading:\n",
      "../data/batch_1_9\n",
      "Test Set Batch Count: 63\n",
      "torch.Size([4754, 6])\n",
      "torch.Size([64870, 4])\n",
      "DataBatch(x=[4754, 6], edge_index=[2, 64870], edge_attr=[64870, 4], y=[64870], batch=[4754], ptr=[17])\n",
      "==============================================================\n",
      "Number of nodes: 4754\n",
      "Number of edges: 64870\n",
      "Average node degree: 13.65\n",
      "Number of node features: 6\n",
      "Number of edge features: 4\n",
      "Has isolated nodes: True\n",
      "Has self-loops: False\n",
      "Is undirected: False\n"
     ]
    }
   ],
   "source": [
    "## TODO: Change to DataListLoader to allow batches to be subscriptable and possibly add functionality for parallelisation\n",
    "\n",
    "## TODO: init BatchData with an index range instead to allow 80 20 train-test split\n",
    "\n",
    "loader_train = DataLoader(BatchData(0,1), batch_size=16, pin_memory=True, num_workers=4)\n",
    "print(\"Train Set Batch Count:\", len(loader_train))\n",
    "displayStats(loader=loader_train)\n",
    "loader_test = DataLoader(BatchData(9,10), batch_size=16, pin_memory=True, num_workers=4)\n",
    "print(\"Test Set Batch Count:\", len(loader_train))\n",
    "displayStats(loader=loader_test)\n",
    "num_nf, num_ef = getDataDims(loader=loader_train)\n"
   ]
  },
  {
   "cell_type": "code",
   "execution_count": 135,
   "metadata": {},
   "outputs": [
    {
     "name": "stdout",
     "output_type": "stream",
     "text": [
      "torch.Size([350, 6])\n",
      "torch.Size([8138, 4])\n",
      "torch.Size([8138, 16])\n"
     ]
    },
    {
     "ename": "RuntimeError",
     "evalue": "mat1 and mat2 shapes cannot be multiplied (8138x16 and 6x10)",
     "output_type": "error",
     "traceback": [
      "\u001b[0;31m---------------------------------------------------------------------------\u001b[0m",
      "\u001b[0;31mRuntimeError\u001b[0m                              Traceback (most recent call last)",
      "Cell \u001b[0;32mIn[135], line 1\u001b[0m\n\u001b[0;32m----> 1\u001b[0m model \u001b[39m=\u001b[39m init_model(num_nf, HIDDEN_CHANNELS, LATENT_DIMS, NUM_GCN, loader_train)\n",
      "Cell \u001b[0;32mIn[133], line 6\u001b[0m, in \u001b[0;36minit_model\u001b[0;34m(num_nf, num_hidden_channels, latent_dims, num_gcn, loader)\u001b[0m\n\u001b[1;32m      4\u001b[0m model \u001b[39m=\u001b[39m Autoencoder(encoder, decoder)\n\u001b[1;32m      5\u001b[0m optimizer \u001b[39m=\u001b[39m torch\u001b[39m.\u001b[39moptim\u001b[39m.\u001b[39mAdam(model\u001b[39m.\u001b[39mparameters(), lr\u001b[39m=\u001b[39m\u001b[39m0.01\u001b[39m)\n\u001b[0;32m----> 6\u001b[0m \u001b[39mprint\u001b[39m(summary\u001b[39m.\u001b[39;49msummary(model, loader\u001b[39m.\u001b[39;49mdataset[\u001b[39m0\u001b[39;49m][\u001b[39m\"\u001b[39;49m\u001b[39mx\u001b[39;49m\u001b[39m\"\u001b[39;49m], loader\u001b[39m.\u001b[39;49mdataset[\u001b[39m0\u001b[39;49m][\u001b[39m\"\u001b[39;49m\u001b[39medge_index\u001b[39;49m\u001b[39m\"\u001b[39;49m], loader\u001b[39m.\u001b[39;49mdataset[\u001b[39m0\u001b[39;49m][\u001b[39m\"\u001b[39;49m\u001b[39medge_attr\u001b[39;49m\u001b[39m\"\u001b[39;49m]))\n\u001b[1;32m      7\u001b[0m \u001b[39mreturn\u001b[39;00m model\n",
      "File \u001b[0;32m~/gnn_project/gsoc_evaluation/gnntracking-gsoc-aaronjomy/scripts/summary.py:110\u001b[0m, in \u001b[0;36msummary\u001b[0;34m(model, max_depth, leaf_module, *args, **kwargs)\u001b[0m\n\u001b[1;32m    107\u001b[0m model\u001b[39m.\u001b[39meval()\n\u001b[1;32m    109\u001b[0m \u001b[39mwith\u001b[39;00m torch\u001b[39m.\u001b[39mno_grad():\n\u001b[0;32m--> 110\u001b[0m     model(\u001b[39m*\u001b[39;49margs, \u001b[39m*\u001b[39;49m\u001b[39m*\u001b[39;49mkwargs)\n\u001b[1;32m    112\u001b[0m model\u001b[39m.\u001b[39mtrain(training)\n\u001b[1;32m    114\u001b[0m \u001b[39mfor\u001b[39;00m h \u001b[39min\u001b[39;00m hooks\u001b[39m.\u001b[39mvalues():  \u001b[39m# Remove hooks.\u001b[39;00m\n",
      "File \u001b[0;32m~/anaconda3/envs/gnn/lib/python3.10/site-packages/torch/nn/modules/module.py:1148\u001b[0m, in \u001b[0;36mModule._call_impl\u001b[0;34m(self, *input, **kwargs)\u001b[0m\n\u001b[1;32m   1145\u001b[0m     bw_hook \u001b[39m=\u001b[39m hooks\u001b[39m.\u001b[39mBackwardHook(\u001b[39mself\u001b[39m, full_backward_hooks)\n\u001b[1;32m   1146\u001b[0m     \u001b[39minput\u001b[39m \u001b[39m=\u001b[39m bw_hook\u001b[39m.\u001b[39msetup_input_hook(\u001b[39minput\u001b[39m)\n\u001b[0;32m-> 1148\u001b[0m result \u001b[39m=\u001b[39m forward_call(\u001b[39m*\u001b[39;49m\u001b[39minput\u001b[39;49m, \u001b[39m*\u001b[39;49m\u001b[39m*\u001b[39;49mkwargs)\n\u001b[1;32m   1149\u001b[0m \u001b[39mif\u001b[39;00m _global_forward_hooks \u001b[39mor\u001b[39;00m \u001b[39mself\u001b[39m\u001b[39m.\u001b[39m_forward_hooks:\n\u001b[1;32m   1150\u001b[0m     \u001b[39mfor\u001b[39;00m hook \u001b[39min\u001b[39;00m (\u001b[39m*\u001b[39m_global_forward_hooks\u001b[39m.\u001b[39mvalues(), \u001b[39m*\u001b[39m\u001b[39mself\u001b[39m\u001b[39m.\u001b[39m_forward_hooks\u001b[39m.\u001b[39mvalues()):\n",
      "Cell \u001b[0;32mIn[130], line 9\u001b[0m, in \u001b[0;36mAutoencoder.forward\u001b[0;34m(self, x, edge_index, edge_attr)\u001b[0m\n\u001b[1;32m      7\u001b[0m \u001b[39mdef\u001b[39;00m \u001b[39mforward\u001b[39m(\u001b[39mself\u001b[39m, x, edge_index, edge_attr):\n\u001b[1;32m      8\u001b[0m   \u001b[39m# Apply the MLP to the feature vectors\u001b[39;00m\n\u001b[0;32m----> 9\u001b[0m   z \u001b[39m=\u001b[39m \u001b[39mself\u001b[39;49m\u001b[39m.\u001b[39;49mencoder(x, edge_index, edge_attr)\n\u001b[1;32m     10\u001b[0m   \u001b[39m# Apply the GNN to the graph and feature vectors\u001b[39;00m\n\u001b[1;32m     11\u001b[0m   pred \u001b[39m=\u001b[39m \u001b[39mself\u001b[39m\u001b[39m.\u001b[39mdecoder(z, edge_index)\n",
      "File \u001b[0;32m~/anaconda3/envs/gnn/lib/python3.10/site-packages/torch/nn/modules/module.py:1148\u001b[0m, in \u001b[0;36mModule._call_impl\u001b[0;34m(self, *input, **kwargs)\u001b[0m\n\u001b[1;32m   1145\u001b[0m     bw_hook \u001b[39m=\u001b[39m hooks\u001b[39m.\u001b[39mBackwardHook(\u001b[39mself\u001b[39m, full_backward_hooks)\n\u001b[1;32m   1146\u001b[0m     \u001b[39minput\u001b[39m \u001b[39m=\u001b[39m bw_hook\u001b[39m.\u001b[39msetup_input_hook(\u001b[39minput\u001b[39m)\n\u001b[0;32m-> 1148\u001b[0m result \u001b[39m=\u001b[39m forward_call(\u001b[39m*\u001b[39;49m\u001b[39minput\u001b[39;49m, \u001b[39m*\u001b[39;49m\u001b[39m*\u001b[39;49mkwargs)\n\u001b[1;32m   1149\u001b[0m \u001b[39mif\u001b[39;00m _global_forward_hooks \u001b[39mor\u001b[39;00m \u001b[39mself\u001b[39m\u001b[39m.\u001b[39m_forward_hooks:\n\u001b[1;32m   1150\u001b[0m     \u001b[39mfor\u001b[39;00m hook \u001b[39min\u001b[39;00m (\u001b[39m*\u001b[39m_global_forward_hooks\u001b[39m.\u001b[39mvalues(), \u001b[39m*\u001b[39m\u001b[39mself\u001b[39m\u001b[39m.\u001b[39m_forward_hooks\u001b[39m.\u001b[39mvalues()):\n",
      "Cell \u001b[0;32mIn[128], line 19\u001b[0m, in \u001b[0;36mEncoder.forward\u001b[0;34m(self, x, edge_index, edge_attr)\u001b[0m\n\u001b[1;32m     17\u001b[0m x \u001b[39m=\u001b[39m torch\u001b[39m.\u001b[39mcat([x[edge_index[\u001b[39m0\u001b[39m]], x[edge_index[\u001b[39m1\u001b[39m]], edge_attr], dim\u001b[39m=\u001b[39m\u001b[39m1\u001b[39m)\n\u001b[1;32m     18\u001b[0m \u001b[39mprint\u001b[39m(x\u001b[39m.\u001b[39mshape)\n\u001b[0;32m---> 19\u001b[0m x \u001b[39m=\u001b[39m \u001b[39mself\u001b[39;49m\u001b[39m.\u001b[39;49mlinear(x)\n\u001b[1;32m     20\u001b[0m x \u001b[39m=\u001b[39m F\u001b[39m.\u001b[39mrelu(x)\n\u001b[1;32m     21\u001b[0m \u001b[39m# Message passing\u001b[39;00m\n",
      "File \u001b[0;32m~/anaconda3/envs/gnn/lib/python3.10/site-packages/torch/nn/modules/module.py:1148\u001b[0m, in \u001b[0;36mModule._call_impl\u001b[0;34m(self, *input, **kwargs)\u001b[0m\n\u001b[1;32m   1145\u001b[0m     bw_hook \u001b[39m=\u001b[39m hooks\u001b[39m.\u001b[39mBackwardHook(\u001b[39mself\u001b[39m, full_backward_hooks)\n\u001b[1;32m   1146\u001b[0m     \u001b[39minput\u001b[39m \u001b[39m=\u001b[39m bw_hook\u001b[39m.\u001b[39msetup_input_hook(\u001b[39minput\u001b[39m)\n\u001b[0;32m-> 1148\u001b[0m result \u001b[39m=\u001b[39m forward_call(\u001b[39m*\u001b[39;49m\u001b[39minput\u001b[39;49m, \u001b[39m*\u001b[39;49m\u001b[39m*\u001b[39;49mkwargs)\n\u001b[1;32m   1149\u001b[0m \u001b[39mif\u001b[39;00m _global_forward_hooks \u001b[39mor\u001b[39;00m \u001b[39mself\u001b[39m\u001b[39m.\u001b[39m_forward_hooks:\n\u001b[1;32m   1150\u001b[0m     \u001b[39mfor\u001b[39;00m hook \u001b[39min\u001b[39;00m (\u001b[39m*\u001b[39m_global_forward_hooks\u001b[39m.\u001b[39mvalues(), \u001b[39m*\u001b[39m\u001b[39mself\u001b[39m\u001b[39m.\u001b[39m_forward_hooks\u001b[39m.\u001b[39mvalues()):\n",
      "File \u001b[0;32m~/anaconda3/envs/gnn/lib/python3.10/site-packages/torch/nn/modules/linear.py:114\u001b[0m, in \u001b[0;36mLinear.forward\u001b[0;34m(self, input)\u001b[0m\n\u001b[1;32m    113\u001b[0m \u001b[39mdef\u001b[39;00m \u001b[39mforward\u001b[39m(\u001b[39mself\u001b[39m, \u001b[39minput\u001b[39m: Tensor) \u001b[39m-\u001b[39m\u001b[39m>\u001b[39m Tensor:\n\u001b[0;32m--> 114\u001b[0m     \u001b[39mreturn\u001b[39;00m F\u001b[39m.\u001b[39;49mlinear(\u001b[39minput\u001b[39;49m, \u001b[39mself\u001b[39;49m\u001b[39m.\u001b[39;49mweight, \u001b[39mself\u001b[39;49m\u001b[39m.\u001b[39;49mbias)\n",
      "\u001b[0;31mRuntimeError\u001b[0m: mat1 and mat2 shapes cannot be multiplied (8138x16 and 6x10)"
     ]
    }
   ],
   "source": [
    "model = init_model(num_nf, HIDDEN_CHANNELS, LATENT_DIMS, NUM_GCN, loader_train)"
   ]
  },
  {
   "cell_type": "code",
   "execution_count": null,
   "metadata": {},
   "outputs": [
    {
     "name": "stdout",
     "output_type": "stream",
     "text": [
      "Training on GPU: True\n",
      "Epoch 0, Loss: 0.6932, ROC Score: 0.7205, AP Score: 0.4887\n",
      "Epoch 1, Loss: 0.6839, ROC Score: 0.6107, AP Score: 0.4295\n",
      "Epoch 2, Loss: 0.7023, ROC Score: 0.8196, AP Score: 0.5264\n",
      "Epoch 3, Loss: 0.3291, ROC Score: 0.8327, AP Score: 0.6051\n",
      "Epoch 4, Loss: 0.3054, ROC Score: 0.8416, AP Score: 0.6255\n",
      "Epoch 5, Loss: 0.2964, ROC Score: 0.8510, AP Score: 0.6773\n",
      "Epoch 6, Loss: 0.2930, ROC Score: 0.8527, AP Score: 0.6901\n",
      "Epoch 7, Loss: 0.2914, ROC Score: 0.8555, AP Score: 0.6969\n",
      "Epoch 8, Loss: 0.2906, ROC Score: 0.8577, AP Score: 0.7051\n",
      "Epoch 9, Loss: 0.2891, ROC Score: 0.8592, AP Score: 0.7135\n",
      "Epoch 10, Loss: 0.2897, ROC Score: 0.8533, AP Score: 0.6914\n",
      "Epoch 11, Loss: 0.2889, ROC Score: 0.8562, AP Score: 0.7009\n",
      "Epoch 12, Loss: 0.2874, ROC Score: 0.8594, AP Score: 0.7155\n",
      "Epoch 13, Loss: 0.2851, ROC Score: 0.8600, AP Score: 0.7192\n",
      "Epoch 14, Loss: 0.2855, ROC Score: 0.8604, AP Score: 0.7161\n",
      "Epoch 15, Loss: 0.2837, ROC Score: 0.8603, AP Score: 0.7205\n",
      "Epoch 16, Loss: 0.2819, ROC Score: 0.8607, AP Score: 0.7218\n",
      "Epoch 17, Loss: 0.2833, ROC Score: 0.8594, AP Score: 0.7209\n",
      "Epoch 18, Loss: 0.2814, ROC Score: 0.8604, AP Score: 0.7240\n",
      "Epoch 19, Loss: 0.2781, ROC Score: 0.8612, AP Score: 0.7307\n",
      "Epoch 20, Loss: 0.2780, ROC Score: 0.8621, AP Score: 0.7342\n",
      "Epoch 21, Loss: 0.2762, ROC Score: 0.8629, AP Score: 0.7345\n",
      "Epoch 22, Loss: 0.2739, ROC Score: 0.8644, AP Score: 0.7362\n",
      "Epoch 23, Loss: 0.2745, ROC Score: 0.8651, AP Score: 0.7403\n",
      "Epoch 24, Loss: 0.2724, ROC Score: 0.8658, AP Score: 0.7368\n"
     ]
    }
   ],
   "source": [
    "if(USE_GPU):\n",
    "    model.to(device = \"cuda\")\n",
    "    torch.cuda.empty_cache()\n",
    "\n",
    "print(\"Training on GPU:\", next(model.parameters()).is_cuda)\n",
    "loss_hist, roc_hist, ap_hist = train_model(model, loader_train, loader_test, num_epochs = 25)"
   ]
  },
  {
   "cell_type": "code",
   "execution_count": null,
   "metadata": {},
   "outputs": [
    {
     "data": {
      "image/png": "[encoded data removed]",
      "text/plain": [
       "<Figure size 640x480 with 1 Axes>"
      ]
     },
     "metadata": {},
     "output_type": "display_data"
    }
   ],
   "source": [
    "\n",
    "plt.plot(roc_hist, label=\"ROC\")\n",
    "plt.plot(ap_hist, label=\"AP\")\n",
    "plt.legend(loc=\"upper right\")\n",
    "plt.show()"
   ]
  },
  {
   "cell_type": "code",
   "execution_count": null,
   "metadata": {},
   "outputs": [
    {
     "data": {
      "image/png": "[encoded data removed]",
      "text/plain": [
       "<Figure size 640x480 with 1 Axes>"
      ]
     },
     "metadata": {},
     "output_type": "display_data"
    }
   ],
   "source": [
    "plt.plot(loss_hist, label=\"loss\")\n",
    "plt.legend()\n",
    "plt.show()\n",
    "roc_auc, ap = test(model, loader_test)"
   ]
  },
  {
   "cell_type": "code",
   "execution_count": null,
   "metadata": {},
   "outputs": [
    {
     "name": "stdout",
     "output_type": "stream",
     "text": [
      "ROC:86.57885243934498%\n",
      "Average Precision:73.68401056323131%\n"
     ]
    }
   ],
   "source": [
    "print(\"ROC:{}%\".format(roc_auc*100))\n",
    "print(\"Average Precision:{}%\".format(ap*100))"
   ]
  }
 ],
 "metadata": {
  "kernelspec": {
   "display_name": "gnn",
   "language": "python",
   "name": "python3"
  },
  "language_info": {
   "codemirror_mode": {
    "name": "ipython",
    "version": 3
   },
   "file_extension": ".py",
   "mimetype": "text/x-python",
   "name": "python",
   "nbconvert_exporter": "python",
   "pygments_lexer": "ipython3",
   "version": "3.10.0"
  },
  "orig_nbformat": 4,
  "vscode": {
   "interpreter": {
    "hash": "a641bb50ba765b87947f17e1700aba4a77aa5ee8fe54c2d25010287d24ff3214"
   }
  }
 },
 "nbformat": 4,
 "nbformat_minor": 2
}
